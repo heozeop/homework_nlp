{
 "cells": [
  {
   "cell_type": "code",
   "execution_count": 1,
   "id": "37b8e136",
   "metadata": {},
   "outputs": [],
   "source": [
    "import requests\n",
    "import pandas as pd\n",
    "import math, json\n",
    "import re\n",
    "from IPython.display import clear_output\n",
    "import numpy as np\n",
    "import math"
   ]
  },
  {
   "cell_type": "code",
   "execution_count": 2,
   "id": "c730a606",
   "metadata": {},
   "outputs": [],
   "source": [
    "\n",
    "genres = ['Action','Comedy', 'Crime', 'Musical', 'Horror']\n",
    "colors = {'Action':'limegreen', 'Comedy':'violet','Crime':'dodgerblue','Musical':'darkgreen','Horror':'deepskyblue'}"
   ]
  },
  {
   "cell_type": "code",
   "execution_count": 3,
   "id": "cf2359c0",
   "metadata": {},
   "outputs": [
    {
     "name": "stdout",
     "output_type": "stream",
     "text": [
      "edited 261\n",
      "edited 349\n",
      "edited 212\n",
      "edited 24\n",
      "edited 134\n"
     ]
    }
   ],
   "source": [
    "\n",
    "result = {}\n",
    "\n",
    "key_list = []\n",
    "key_dicts = []\n",
    "merged_keys = set()\n",
    "counts = {}\n",
    "\n",
    "for genre in genres:\n",
    "    f = open(f\"{genre}.json\", \"r\")\n",
    "    data = json.loads(f.read())\n",
    "    f.close()\n",
    "    index = 0\n",
    "    for (local_key_list, key_dict) in data:\n",
    "        if len(local_key_list) == 0:\n",
    "            continue\n",
    "        merged_keys.update(local_key_list)\n",
    "        key_list.append(local_key_list)\n",
    "        local_max = max(key_dict.values())\n",
    "#         print(type(key_dict))\n",
    "        index += 1\n",
    "        for key in local_key_list:\n",
    "            key_dict.update({key: key_dict[key]/local_max})\n",
    "        key_dicts.append(key_dict)\n",
    "    print(f\"edited {index}\")\n",
    "    counts[genre] = index\n",
    "\n",
    "\n"
   ]
  },
  {
   "cell_type": "code",
   "execution_count": 4,
   "id": "005591df",
   "metadata": {},
   "outputs": [],
   "source": [
    "\n",
    "dfi={key: 0 for key in list(merged_keys)}\n",
    "doc_len = len(key_list)\n",
    "for doc_key in key_list:\n",
    "    for key in doc_key:\n",
    "        dfi.update({key: dfi[key] + 1})\n",
    "\n",
    "        \n",
    "    \n",
    "        "
   ]
  },
  {
   "cell_type": "code",
   "execution_count": 6,
   "id": "d7176fb5",
   "metadata": {},
   "outputs": [],
   "source": [
    "a = 0\n",
    "for doc_keys in key_list:\n",
    "    for key in doc_keys:\n",
    "        key_dicts[a].update({key:key_dicts[a][key] * dfi[key]})\n",
    "    a+=1\n"
   ]
  },
  {
   "cell_type": "code",
   "execution_count": 7,
   "id": "bf1b325e",
   "metadata": {},
   "outputs": [],
   "source": [
    "genre_dicts = {}\n",
    "prev = 0\n",
    "action = key_dicts[:262]\n",
    "comedy = key_dicts[262:612]\n",
    "crime = key_dicts[612:825]\n",
    "musical = key_dicts[825: 850]\n",
    "horror = key_dicts[850:]\n"
   ]
  },
  {
   "cell_type": "code",
   "execution_count": 8,
   "id": "051c89a8",
   "metadata": {},
   "outputs": [],
   "source": [
    "top_action = set()\n",
    "for ac in action:\n",
    "    curd = [f for (f,_) in sorted(ac.items(), key = lambda item: item[1], reverse = True)]\n",
    "    if len(top_action) == 0:\n",
    "        top_action.update(curd)\n",
    "    else:\n",
    "        top_action.intersection(curd)\n"
   ]
  },
  {
   "cell_type": "code",
   "execution_count": 19,
   "id": "06fc3662",
   "metadata": {},
   "outputs": [],
   "source": [
    "def calcTop(dict_list):\n",
    "    top_action = set()\n",
    "    for ac in dict_list:\n",
    "        curd = [f for (f,_) in sorted(ac.items(), key = lambda item: item[1], reverse = True)[:1000]]\n",
    "        if len(top_action) == 0:\n",
    "            top_action.update(curd)\n",
    "        else:\n",
    "            top_action.intersection(curd)\n",
    "    return top_action"
   ]
  },
  {
   "cell_type": "code",
   "execution_count": 20,
   "id": "d142e117",
   "metadata": {},
   "outputs": [],
   "source": [
    "top_action = calcTop(action)\n",
    "top_commedy = calcTop(comedy)\n",
    "top_crime = calcTop(crime)\n",
    "top_musical = calcTop(musical)\n",
    "top_horror = calcTop(horror)\n",
    "    "
   ]
  },
  {
   "cell_type": "code",
   "execution_count": 21,
   "id": "1cb5fd36",
   "metadata": {},
   "outputs": [
    {
     "name": "stdout",
     "output_type": "stream",
     "text": [
      "actions [333, 402, 344, 950]\n",
      "comedies [333, 424, 376, 958]\n",
      "crimes [402, 424, 440, 951]\n",
      "musicals [344, 376, 440, 953]\n"
     ]
    }
   ],
   "source": [
    "tops=[top_action.difference(top_commedy),\n",
    "top_action.difference(top_crime),\n",
    "top_action.difference(top_musical),\n",
    "top_action.difference(top_horror)]\n",
    "print(\"actions\",[len(x) for x in tops])\n",
    "comedies = [\n",
    "    \n",
    "top_commedy.difference(top_action),\n",
    "top_commedy.difference(top_crime),\n",
    "top_commedy.difference(top_musical),\n",
    "top_commedy.difference(top_horror)\n",
    "]\n",
    "\n",
    "print(\"comedies\",[len(x) for x in comedies])\n",
    "\n",
    "crimes = [\n",
    "    \n",
    "top_crime.difference(top_action),\n",
    "top_crime.difference(top_commedy),\n",
    "top_crime.difference(top_musical),\n",
    "top_crime.difference(top_horror)\n",
    "]\n",
    "\n",
    "print(\"crimes\",[len(x) for x in crimes])\n",
    "\n",
    "musicals = [\n",
    "    \n",
    "top_musical.difference(top_action),\n",
    "top_musical.difference(top_commedy),\n",
    "top_musical.difference(top_crime),\n",
    "top_musical.difference(top_horror)\n",
    "]\n",
    "\n",
    "print(\"musicals\",[len(x) for x in musicals])"
   ]
  },
  {
   "cell_type": "code",
   "execution_count": 22,
   "id": "2bb91ae6",
   "metadata": {},
   "outputs": [],
   "source": [
    "def printCount(ts):\n",
    "    a = set();\n",
    "    for t in ts:\n",
    "        if len(a) == 0:\n",
    "            a.update(t)\n",
    "        else:\n",
    "            a.difference(t)\n",
    "    print(len(a))\n"
   ]
  },
  {
   "cell_type": "code",
   "execution_count": 18,
   "id": "a9b0d4ea",
   "metadata": {},
   "outputs": [
    {
     "name": "stdout",
     "output_type": "stream",
     "text": [
      "1820\n",
      "1675\n",
      "2464\n",
      "2158\n"
     ]
    }
   ],
   "source": [
    "printCount(tops)\n",
    "printCount(comedies)\n",
    "printCount(crimes)\n",
    "printCount(musicals)"
   ]
  },
  {
   "cell_type": "code",
   "execution_count": 3,
   "id": "e41fe7a4",
   "metadata": {},
   "outputs": [
    {
     "name": "stdout",
     "output_type": "stream",
     "text": [
      "\u001b[33mWARNING: The directory '/Users/iseungchan/Library/Caches/pip' or its parent directory is not owned or is not writable by the current user. The cache has been disabled. Check the permissions and owner of that directory. If executing pip with sudo, you should use sudo's -H flag.\u001b[0m\n",
      "\u001b[31mERROR: Could not find a version that satisfies the requirement matplotlib.font_manager (from versions: none)\u001b[0m\n",
      "\u001b[31mERROR: No matching distribution found for matplotlib.font_manager\u001b[0m\n",
      "\u001b[33mWARNING: You are using pip version 21.2.3; however, version 22.0.4 is available.\n",
      "You should consider upgrading via the '/Library/Frameworks/Python.framework/Versions/3.10/bin/python3.10 -m pip install --upgrade pip' command.\u001b[0m\n",
      "Note: you may need to restart the kernel to use updated packages.\n"
     ]
    }
   ],
   "source": [
    "pip install matplotlib.font_manager"
   ]
  }
 ],
 "metadata": {
  "kernelspec": {
   "display_name": "Python 3 (ipykernel)",
   "language": "python",
   "name": "python3"
  },
  "language_info": {
   "codemirror_mode": {
    "name": "ipython",
    "version": 3
   },
   "file_extension": ".py",
   "mimetype": "text/x-python",
   "name": "python",
   "nbconvert_exporter": "python",
   "pygments_lexer": "ipython3",
   "version": "3.10.0"
  }
 },
 "nbformat": 4,
 "nbformat_minor": 5
}
