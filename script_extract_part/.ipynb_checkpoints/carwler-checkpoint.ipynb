{
 "cells": [
  {
   "cell_type": "code",
   "execution_count": 1,
   "id": "fe802443",
   "metadata": {},
   "outputs": [],
   "source": [
    "import requests\n",
    "import pandas as pd\n",
    "import math, json\n",
    "from bs4 import BeautifulSoup\n",
    "import re\n",
    "from IPython.display import clear_output\n",
    "import numpy as np\n",
    "\n",
    "from concurrent.futures import ThreadPoolExecutor, wait\n",
    "# from selenium import webdriver\n",
    "# from selenium.webdriver.support.ui import WebDriverWait\n",
    "# from selenium.webdriver.support import expected_conditions as EC\n",
    "# from selenium.webdriver.common.by import By\n",
    "# from selenium.common.exceptions import TimeoutException"
   ]
  },
  {
   "cell_type": "code",
   "execution_count": 2,
   "id": "cd976418",
   "metadata": {},
   "outputs": [],
   "source": [
    "#Removes request warnings from console\n",
    "\n",
    "from requests.packages.urllib3.exceptions import InsecureRequestWarning\n",
    "\n",
    "requests.packages.urllib3.disable_warnings(InsecureRequestWarning)"
   ]
  },
  {
   "cell_type": "code",
   "execution_count": 3,
   "id": "c4d47634",
   "metadata": {},
   "outputs": [],
   "source": [
    "def getNamesOfMovies(genre):\n",
    "    \n",
    "#     driver = webdriver.Chrome('/Users/iseungchan/Downloads/chromedriver')\n",
    "#     driver.implicitly_wait(3)\n",
    "    \n",
    "#     driver.get(f\"https://imsdb.com/genre/{genre}/\")\n",
    "    \n",
    "    headers = {\n",
    "        'Connection': 'keep-alive',\n",
    "        'Upgrade-Insecure-Requests': '1',\n",
    "        'User-Agent': 'Mozilla/5.0 (Windows NT 10.0; Win64; x64) AppleWebKit/537.36 (KHTML, like Gecko) Chrome/97.0.4692.71 Safari/537.36',\n",
    "        'Accept': 'text/html,application/xhtml+xml,application/xml;q=0.9,image/avif,image/webp,image/apng,*/*;q=0.8,application/signed-exchange;v=b3;q=0.9',\n",
    "        'Referer': 'https://imsdb.com/',\n",
    "        'Accept-Language': 'ko-KR,ko;q=0.9,en-US;q=0.8,en;q=0.7',\n",
    "    }\n",
    "    response = requests.get(f\"http://imsdb.com/genre/{genre}\", headers=headers, verify=False)\n",
    "    html = response.text\n",
    "    soup = BeautifulSoup(html, \"html.parser\")\n",
    "    movie_names=[]\n",
    "    for row in soup.find_all('p'):\n",
    "        movie_names.append(row.find('a').get('title').replace(' ', '-').replace('-Script',''))\n",
    "    return movie_names\n",
    "    "
   ]
  },
  {
   "cell_type": "code",
   "execution_count": 4,
   "id": "d9b17314",
   "metadata": {},
   "outputs": [],
   "source": [
    "stop_words = \"a's, able, im, uh, about, cod't, cont'd, above, according, accordingly, across, actually, after, afterwards, again, against, ain’t, all, allow, allows, almost, alone, along, already, also, although, always, am, among, amongst, an, and, another, any, anybody, anyhow, anyone, anything, anyway, anyways, anywhere, apart, appear, appreciate, appropriate, are, aren’t, around, as, aside, ask, asking, associated, at, available, away, awfully, be, became, because, become, becomes, becoming, been, before, beforehand, behind, being, believe, below, beside, besides, best, better, between, beyond, both, brief, but, by, c’mon, c’s, came, can, can’t, cannot, cant, cause, causes, certain, certainly, changes, clearly, co, com, come, comes, concerning, consequently, consider, considering, contain, containing, contains, corresponding, could, couldn’t, course, currently, definitely, described, despite, did, didn’t, different, do, does, doesn’t, doing, don’t, done, down, downwards, during, each, edu, eg, eight, either, else, elsewhere, enough, entirely, especially, et, etc, even, ever, every, everybody, everyone, everything, everywhere, ex, exactly, example, except, far, few, fifth, first, five, followed, following, follows, for, former, formerly, forth, four, from, further, furthermore, get, gets, getting, given, gives, go, goes, going, gone, got, gotten, greetings, had, hadn’t, happens, hardly, has, hasn’t, have, haven’t, having, he, he’s, hello, help, hence, her, here, here’s, hereafter, hereby, herein, hereupon, hers, herself, hi, him, himself, his, hither, hopefully, how, howbeit, however, i, i’d, i’ll, i’m, i’ve, ie, if, ignored, immediate, in, inasmuch, inc, indeed, indicate, indicated, indicates, inner, insofar, instead, into, inward, is, isn’t, it, it’d, it’ll, it’s, its, itself, just, keep, keeps, kept, know, knows, known, last, lately, later, latter, latterly, least, less, lest, let, let’s, like, liked, likely, little, look, looking, looks, ltd, mainly, many, may, maybe, me, mean, meanwhile, merely, might, more, moreover, most, mostly, much, must, my, myself, name, namely, nd, near, nearly, necessary, need, needs, neither, never, nevertheless, new, next, nine, no, nobody, non, none, noone, nor, normally, not, nothing, novel, now, nowhere, obviously, of, off, often, oh, ok, okay, old, on, once, one, ones, only, onto, or, other, others, otherwise, ought, our, ours, ourselves, out, outside, over, overall, own, particular, particularly, per, perhaps, placed, please, plus, possible, presumably, probably, provides, que, quite, qv, rather, rd, re, really, reasonably, regarding, regardless, regards, relatively, respectively, right, said, same, saw, say, saying, says, second, secondly, see, seeing, seem, seemed, seeming, seems, seen, self, selves, sensible, sent, serious, seriously, seven, several, shall, she, should, shouldn’t, since, six, so, some, somebody, somehow, someone, something, sometime, sometimes, somewhat, somewhere, soon, sorry, specified, specify, specifying, still, sub, such, sup, sure, t’s, take, taken, tell, tends, th, than, thank, thanks, thanx, that, that’s, thats, the, their, theirs, them, themselves, then, thence, there, there’s, thereafter, thereby, therefore, therein, theres, thereupon, these, they, they’d, they’ll, they’re, they’ve, think, third, this, thorough, thoroughly, those, though, three, through, throughout, thru, thus, to, together, too, took, toward, towards, tried, tries, truly, try, trying, twice, two, un, under, unfortunately, unless, unlikely, until, unto, up, upon, us, use, used, useful, uses, using, usually, value, various, very, via, viz, vs, want, wants, was, wasn’t, way, we, we’d, we’ll, we’re, we’ve, welcome, well, went, were, weren’t, what, what’s, whatever, when, whence, whenever, where, where’s, whereafter, whereas, whereby, wherein, whereupon, wherever, whether, which, while, whither, who, who’s, whoever, whole, whom, whose, why, will, willing, wish, with, within, without, won't, wonder, would, would, wouldn't, yes, yet, you, you'd, you'll, you're, you've, your, yours, yourself, yourselves, zero\".replace('’',\"'\").split(', ')\n",
    "end_words = '|'.join(['\\,','\\.','\\?','\\!','\\-','\\:','\\;','\\r','\\n','\\t','\\(','\\)','\\{','\\}',\"\\'s\",\"\\_\",\"\\&\", \"\\#\", \"\\@\", \"\\#\",\"\\^\",\"\\*\",\"\\/\",\"\\[\",\"\\]\"])"
   ]
  },
  {
   "cell_type": "code",
   "execution_count": 5,
   "id": "878af2b8",
   "metadata": {},
   "outputs": [],
   "source": [
    "def process_texts(raw_script):\n",
    "    end_replaced = re.sub(end_words, \" \", raw_script.lower())\n",
    "    # split\n",
    "    script_chunks = end_replaced.split(' ')\n",
    "    # remove stop_wrods\n",
    "    filtered_script = filter(lambda x: len(x) > 1 and ((x in stop_words) is False), script_chunks)\n",
    "    return filtered_script"
   ]
  },
  {
   "cell_type": "code",
   "execution_count": 6,
   "id": "eeb8677e",
   "metadata": {},
   "outputs": [],
   "source": [
    "def make_keyword_dict_and_count(keywords):\n",
    "    keyword_list = [\"{}\".format(key.replace('\"', \"\").replace(\"'\",\"\")) for key in list(set(keywords))]\n",
    "#     print(f\"tried with {len(keywords)} keywords\")\n",
    "    \n",
    "    keyword_dict={key:0 for key in keyword_list}\n",
    "    for raw_keyword in keywords:\n",
    "        keyword = \"{}\".format(raw_keyword.replace('\"', \"\").replace(\"'\",\"\"))\n",
    "        keyword_dict.update({keyword:keyword_dict[keyword] + 1})\n",
    "    return (keyword_list, keyword_dict)"
   ]
  },
  {
   "cell_type": "code",
   "execution_count": 7,
   "id": "df2be1f6",
   "metadata": {},
   "outputs": [],
   "source": [
    "def getMovieScripts(movie_name):\n",
    "    headers = {\n",
    "        'Connection': 'keep-alive',\n",
    "        'Upgrade-Insecure-Requests': '1',\n",
    "        'User-Agent': 'Mozilla/5.0 (Windows NT 10.0; Win64; x64) AppleWebKit/537.36 (KHTML, like Gecko) Chrome/97.0.4692.71 Safari/537.36',\n",
    "        'Accept': 'text/html,application/xhtml+xml,application/xml;q=0.9,image/avif,image/webp,image/apng,*/*;q=0.8,application/signed-exchange;v=b3;q=0.9',\n",
    "        'Referer': 'https://imsdb.com/',\n",
    "        'Accept-Language': 'ko-KR,ko;q=0.9,en-US;q=0.8,en;q=0.7',\n",
    "    }\n",
    "    response = requests.get(f\"http://imsdb.com/scripts/{movie_name}.html\", headers=headers, verify=False)\n",
    "    html = response.text\n",
    "    soup = BeautifulSoup(html, \"html.parser\")\n",
    "    raw_script = soup.find(\"td\", class_='scrtext')\n",
    "    try:\n",
    "        raw_script = raw_script.find('pre')\n",
    "        try:\n",
    "            raw_script = raw_script.find('pre').text\n",
    "        except:\n",
    "            raw_script = raw_script.text\n",
    "    except:\n",
    "        val = soup.find(\"td\", class_='scrtext')\n",
    "        if val != None:\n",
    "            raw_script = val.text\n",
    "    if raw_script == None:\n",
    "        raw_script = \"\"\n",
    "    \n",
    "#     processed_script = process_texts(raw_script=raw_script)\n",
    "#     return (movie_name, make_keyword_dict_and_count(list(processed_script)))\n",
    "    return raw_script"
   ]
  },
  {
   "cell_type": "code",
   "execution_count": 8,
   "id": "316894d3",
   "metadata": {},
   "outputs": [],
   "source": [
    "def storeScriptByGenres(genres=['Action', 'Adventure', 'Animation', 'Comedy', 'Crime', 'Drama', 'Family', 'Fantasy', 'Film-Noir', 'Horror', 'Musical', 'Mystery', 'Romance', 'Sci-Fi', 'Short', 'Thriller', 'War', 'Western']):\n",
    "    results = {}\n",
    "    doc_data = {}\n",
    "    N_threads = 4\n",
    "    for genre in genres:\n",
    "        names = getNamesOfMovies(genre)\n",
    "        count = 0\n",
    "        name=\"\"\n",
    "        movie_data = []\n",
    "        future_list = []\n",
    "        with ThreadPoolExecutor(max_workers=N_threads) as e:\n",
    "            for name in names:\n",
    "                future = e.submit(getMovieScripts, name)\n",
    "                future_list.append(future)\n",
    "        \n",
    "            (done, _) = wait(future_list)\n",
    "            movie_data = [r.result() for r in done]\n",
    "            try:\n",
    "                for name, movie in movie_data:\n",
    "                    if name in results:\n",
    "                        doc_data[name].append(genre)\n",
    "                    else:\n",
    "                        results[name] = movie\n",
    "                        doc_data[name] = [genre]\n",
    "                    count+=1\n",
    "            except BaseException as e:\n",
    "                print(str(e), f'while {genre} {name}')\n",
    "            print(f\"count {count}/{len(names)}\")\n",
    "    return (results, doc_data)\n",
    "\n",
    "def downloads(results, doc_data):\n",
    "    with open(f\"movies.json\", \"w\") as json_file:\n",
    "        json.dump([val for val in results.values()], json_file)\n",
    "        json_file.close()\n",
    "    \n",
    "    with open(f\"doc_infos.json\", \"w\") as json_file:\n",
    "        json.dump([item for item in doc_data.items()], json_file)\n",
    "        json_file.close()\n",
    "        \n",
    "\n",
    "    \n",
    "    "
   ]
  },
  {
   "cell_type": "code",
   "execution_count": 9,
   "id": "462ea75c",
   "metadata": {},
   "outputs": [
    {
     "name": "stdout",
     "output_type": "stream",
     "text": [
      "count 336/336\n",
      "count 394/394\n",
      "count 231/231\n",
      "count 27/27\n",
      "count 158/158\n"
     ]
    }
   ],
   "source": [
    "r, d = storeScriptByGenres()"
   ]
  },
  {
   "cell_type": "code",
   "execution_count": 10,
   "id": "73a00454",
   "metadata": {},
   "outputs": [],
   "source": [
    "downloads(r,d)"
   ]
  },
  {
   "cell_type": "code",
   "execution_count": null,
   "id": "74750690",
   "metadata": {},
   "outputs": [],
   "source": []
  }
 ],
 "metadata": {
  "kernelspec": {
   "display_name": "Python 3 (ipykernel)",
   "language": "python",
   "name": "python3"
  },
  "language_info": {
   "codemirror_mode": {
    "name": "ipython",
    "version": 3
   },
   "file_extension": ".py",
   "mimetype": "text/x-python",
   "name": "python",
   "nbconvert_exporter": "python",
   "pygments_lexer": "ipython3",
   "version": "3.10.0"
  }
 },
 "nbformat": 4,
 "nbformat_minor": 5
}
